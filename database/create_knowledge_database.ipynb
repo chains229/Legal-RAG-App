{
 "cells": [
  {
   "cell_type": "markdown",
   "metadata": {},
   "source": [
    "# Prepare Environment"
   ]
  },
  {
   "cell_type": "code",
   "execution_count": null,
   "metadata": {
    "vscode": {
     "languageId": "shellscript"
    }
   },
   "outputs": [],
   "source": [
    "!git clone https://github.com/chains229/Legal-RAG-App"
   ]
  },
  {
   "cell_type": "code",
   "execution_count": null,
   "metadata": {
    "vscode": {
     "languageId": "shellscript"
    }
   },
   "outputs": [],
   "source": [
    "cd Legal-RAG-App"
   ]
  },
  {
   "cell_type": "code",
   "execution_count": null,
   "metadata": {
    "vscode": {
     "languageId": "shellscript"
    }
   },
   "outputs": [],
   "source": [
    "# Install required libraries\n",
    "!pip install -r requirements.txt"
   ]
  },
  {
   "cell_type": "code",
   "execution_count": null,
   "metadata": {},
   "outputs": [],
   "source": [
    "# Prepare HuggingFace token\n",
    "import os\n",
    "os.environ['HUGGINGFACE_TOKEN'] = 'your_huggingface_token'\n",
    "from huggingface_hub import login\n",
    "\n",
    "# Log in to Hugging Face using the token\n",
    "login(token=os.getenv('HUGGINGFACE_TOKEN'))"
   ]
  },
  {
   "cell_type": "markdown",
   "metadata": {},
   "source": [
    "# Create Database"
   ]
  },
  {
   "cell_type": "code",
   "execution_count": null,
   "metadata": {},
   "outputs": [],
   "source": [
    "from database.embedding import create_faiss_index\n",
    "import os\n",
    "\n",
    "\n",
    "model = \"intfloat/multilingual-e5-base\"\n",
    "save_path = \"database/full_document.txt\"\n",
    "chunk_size = 256\n",
    "chunk_overlap = 100\n",
    "\n",
    "create_faiss_index(saved_path=save_path, chunk_size=chunk_size, chunk_overlap=chunk_overlap,model=model, output_folder = \"Database\")"
   ]
  }
 ],
 "metadata": {
  "language_info": {
   "name": "python"
  }
 },
 "nbformat": 4,
 "nbformat_minor": 2
}
